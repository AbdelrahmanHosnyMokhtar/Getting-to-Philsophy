{
 "cells": [
  {
   "cell_type": "markdown",
   "metadata": {},
   "source": [
    "Getting to Philosophy\n",
    " \n",
    "Please write a Python script to check the \"Getting to Philosophy\" law.\n",
    "https://en.wikipedia.org/wiki/Wikipedia:Getting_to_Philosophy\n",
    " \n",
    "Clicking on the first link in the main body of a Wikipedia article and repeating the process for subsequent articles would usually lead to the article Philosophy.\n",
    " \n",
    "The program should receive a Wikipedia link as an input, go to another normal link and repeat this process until either Philosophy page is reached, or we are in an article without any outgoing Wikilinks, or stuck in a loop.\n",
    " \n",
    "A \"normal link\" is a link from the main page article, not in a box, is blue (red is for non-existing articles), not in parentheses, not italic and not a footnote. You don't have to check style tables or other fancy things, it is enough that the script works with the current Wikipedia style (for example you can use 'class' attribute in Wikipedia tags). For easy validation, please print all visited links to the standard output.\n",
    " \n",
    "Use a 0.5 second timeout between queries to avoid heavy load on Wikipedia (sleep function from time module).\n",
    " \n",
    "You can use https://en.wikipedia.org/wiki/Special:Random to check this hypothesis at home."
   ]
  },
  {
   "cell_type": "code",
   "execution_count": 74,
   "metadata": {},
   "outputs": [],
   "source": [
    "#the required libraries\n",
    "import requests\n",
    "from bs4 import BeautifulSoup\n",
    "import urllib\n",
    "import time"
   ]
  },
  {
   "cell_type": "code",
   "execution_count": 101,
   "metadata": {
    "scrolled": false
   },
   "outputs": [
    {
     "name": "stdout",
     "output_type": "stream",
     "text": [
      "we have stuck in a loop\n",
      "['https://en.wikipedia.org/wiki/Special:Random', 'https://en.wikipedia.org/wiki/Changamwe', 'https://en.wikipedia.org/wiki/Mombasa', 'https://en.wikipedia.org/wiki/Help:IPA/English', 'https://en.wikipedia.org/#See_also', 'https://en.wikipedia.org/wiki/Cyril_Bassett', 'https://en.wikipedia.org/wiki/Second_World_War', 'https://en.wikipedia.org/wiki/World_war', 'https://en.wikipedia.org/#cite_note-1', 'https://en.wikipedia.org/wiki/Cyril_Bassett']\n"
     ]
    }
   ],
   "source": [
    "start = 'https://en.wikipedia.org/wiki/Special:Random'  #the start link\n",
    "links = [start]  #the links to be updated\n",
    "\n",
    "#the function to get the first link in the main body text\n",
    "def get_first_url(url):\n",
    "    response = requests.get(url)\n",
    "    soup     = BeautifulSoup(response.text)\n",
    "    div = soup.find(id=\"mw-content-text\").find(class_=\"mw-parser-output\")\n",
    "    link = None\n",
    "    for p in div.find_all(\"p\") :\n",
    "        if p.find(\"a\",recursive = False):\n",
    "            link = p.find(\"a\").get(\"href\") \n",
    "            break\n",
    "    if not link :\n",
    "        return \n",
    "    first_link = urllib.parse.urljoin('https://en.wikipedia.org/', link)       \n",
    "    return first_link\n",
    "\n",
    "#the logic that stop the simulation when reach any of the three cases \n",
    "while True : \n",
    "    first = get_first_url(start)\n",
    "    links.append(first)\n",
    "    start = first \n",
    "    if links[-1] == \"https://en.wikipedia.org/wiki/Philosophy\" :\n",
    "        print('we have reached Philosophy page')\n",
    "        break \n",
    "    elif first in links[:-1] :\n",
    "        print('we have stuck in a loop')\n",
    "        break \n",
    "    elif not str(first).startswith(\"https://en.wikipedia.org/\",0,25) :\n",
    "        print('no links')\n",
    "        break\n",
    "    time.sleep(0.5)    \n",
    "print(links)        \n",
    "        "
   ]
  },
  {
   "cell_type": "raw",
   "metadata": {},
   "source": []
  },
  {
   "cell_type": "code",
   "execution_count": null,
   "metadata": {
    "scrolled": true
   },
   "outputs": [],
   "source": [
    "   \n",
    "        \n",
    "        \n",
    "        \n",
    "        \n"
   ]
  },
  {
   "cell_type": "code",
   "execution_count": 31,
   "metadata": {},
   "outputs": [
    {
     "data": {
      "text/plain": [
       "9"
      ]
     },
     "execution_count": 31,
     "metadata": {},
     "output_type": "execute_result"
    }
   ],
   "source": []
  },
  {
   "cell_type": "code",
   "execution_count": null,
   "metadata": {},
   "outputs": [],
   "source": []
  }
 ],
 "metadata": {
  "kernelspec": {
   "display_name": "Python 3",
   "language": "python",
   "name": "python3"
  },
  "language_info": {
   "codemirror_mode": {
    "name": "ipython",
    "version": 3
   },
   "file_extension": ".py",
   "mimetype": "text/x-python",
   "name": "python",
   "nbconvert_exporter": "python",
   "pygments_lexer": "ipython3",
   "version": "3.7.7"
  }
 },
 "nbformat": 4,
 "nbformat_minor": 4
}
